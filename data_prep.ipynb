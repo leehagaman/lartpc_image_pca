{
 "cells": [
  {
   "cell_type": "code",
   "execution_count": 1,
   "metadata": {},
   "outputs": [],
   "source": [
    "import glob\n",
    "import os\n",
    "import imageio\n",
    "\n",
    "\n",
    "import numpy as np\n",
    "import matplotlib.pyplot as plt\n",
    "import matplotlib as mpl\n",
    "mpl.rcParams['font.size'] = 12\n",
    "plt.ioff()\n",
    "\n",
    "import h5py\n",
    "import pandas as pd\n",
    "\n",
    "from skimage.measure import block_reduce\n",
    "\n",
    "from tqdm.notebook import tqdm\n",
    "\n"
   ]
  },
  {
   "cell_type": "code",
   "execution_count": 2,
   "metadata": {},
   "outputs": [],
   "source": [
    "#f = h5py.File(\"data_files/bnb_WithWire_00.h5\")\n",
    "f = h5py.File(\"data_files/nue_WithWire_00.h5\")\n"
   ]
  },
  {
   "cell_type": "code",
   "execution_count": 3,
   "metadata": {},
   "outputs": [],
   "source": [
    "wire_table_rse_num_tups = np.array(f['wire_table']['event_id'], dtype=np.uint32)\n",
    "particle_table_rse_num_tups = np.array(f['particle_table']['event_id'], dtype=np.uint32)\n",
    "\n",
    "wire_table_rse_nums = wire_table_rse_num_tups[:, 0] * 1_000_000_000_000 + wire_table_rse_num_tups[:, 1] * 1_000_000 + wire_table_rse_num_tups[:, 2]\n",
    "particle_table_rse_nums = particle_table_rse_num_tups[:, 0] * 1_000_000_000_000 + particle_table_rse_num_tups[:, 1] * 1_000_000 + particle_table_rse_num_tups[:, 2]\n",
    "\n",
    "unique_rse_nums = np.unique(wire_table_rse_nums)\n"
   ]
  },
  {
   "cell_type": "code",
   "execution_count": 4,
   "metadata": {},
   "outputs": [
    {
     "data": {
      "application/vnd.jupyter.widget-view+json": {
       "model_id": "543e42f10f5b4946b84049974947470f",
       "version_major": 2,
       "version_minor": 0
      },
      "text/plain": [
       "  0%|          | 0/20 [00:00<?, ?it/s]"
      ]
     },
     "metadata": {},
     "output_type": "display_data"
    }
   ],
   "source": [
    "all_adcs = f['wire_table']['adc']\n",
    "all_local_wires = f['wire_table']['local_wire']\n",
    "all_local_planes = f['wire_table']['local_plane']\n",
    "\n",
    "particle_start_wire_pos = f['particle_table']['start_wire_pos']\n",
    "particle_start_wire_time = f['particle_table']['start_wire_time']\n",
    "\n",
    "os.system(\"rm event_display_images_hires/*.png\")\n",
    "\n",
    "num_events = 20\n",
    "for event_i in tqdm(range(num_events)):\n",
    "\n",
    "    curr_rse_num = unique_rse_nums[event_i]\n",
    "    curr_run_num = int(curr_rse_num // 1_000_000_000_000)\n",
    "    curr_subrun_num = int((curr_rse_num % 1_000_000_000_000) // 1_000_000)\n",
    "    curr_event_num = int(curr_rse_num % 1_000_000)\n",
    "\n",
    "    # Only looking at first particle to get neutrino vertex info, for some reason the vertex from the event_table tree didn't seem to match.\n",
    "    event_particle_start_wire_pos = np.array(particle_start_wire_pos[particle_table_rse_nums == unique_rse_nums[event_i]])[0]\n",
    "    event_particle_start_wire_time = np.array(particle_start_wire_time[particle_table_rse_nums == unique_rse_nums[event_i]])[0]\n",
    "\n",
    "    event_adcs = np.array(all_adcs[wire_table_rse_nums == unique_rse_nums[event_i]])\n",
    "    event_local_wire_nums = np.array(all_local_wires[wire_table_rse_nums == unique_rse_nums[event_i]]).flatten()\n",
    "    event_local_plane_nums = np.array(all_local_planes[wire_table_rse_nums == unique_rse_nums[event_i]]).flatten()\n",
    "\n",
    "    collection_adcs = event_adcs[event_local_plane_nums == 2]\n",
    "    collection_local_wire_nums = event_local_wire_nums[event_local_plane_nums == 2]\n",
    "    collection_particle_start_wire_pos = event_particle_start_wire_pos[2]\n",
    "    collection_particle_start_wire_time = event_particle_start_wire_time[0]\n",
    "\n",
    "    wire_pitch = 0.3 # cm, from https://microboone.fnal.gov/wp-content/uploads/MICROBOONE-NOTE-1083-PUB.pdf\n",
    "    time_tick = 0.5 # microseconds, from https://microboone.fnal.gov/wp-content/uploads/MICROBOONE-NOTE-1083-PUB.pdf\n",
    "    drift_velocity = 0.114 # cm / microsecond # 114 cm / millisecond, from https://microboone.fnal.gov/wp-content/uploads/MICROBOONE-NOTE-1026-PUB.pdf\n",
    "\n",
    "    nu_vtx_z = collection_particle_start_wire_pos * wire_pitch # measuring from leftmost wire, not exactly the same as detector coordinates!\n",
    "    nu_vtx_x = collection_particle_start_wire_time * time_tick * drift_velocity # approximate and relative, not exactly the same as detector coordinates!\n",
    "\n",
    "    f_downsample = 6\n",
    "    collection_adcs = block_reduce(collection_adcs, block_size=(1, f_downsample), func=np.sum)\n",
    "\n",
    "    adccutoff = 10.*f_downsample/6.\n",
    "    adcsaturation = 100.*f_downsample/6.\n",
    "    collection_adcs[collection_adcs < adccutoff] = 0\n",
    "    collection_adcs[collection_adcs > adcsaturation] = adcsaturation\n",
    "\n",
    "    extents = [0, collection_adcs.shape[0] * wire_pitch, 0, collection_adcs.shape[1] * time_tick * f_downsample * drift_velocity]\n",
    "\n",
    "    fig = plt.figure(figsize=(1, 1))\n",
    "    ax = plt.gca()\n",
    "\n",
    "    # missing background is blue, in case the neutrino is near the edge when we crop it\n",
    "    plt.imshow(np.zeros((100, 100)), cmap='jet', extent=[-10000, 10000, -10000, 10000])\n",
    "\n",
    "    plt.imshow(collection_adcs.T, origin='lower', cmap='jet', extent=extents)\n",
    "    #plt.colorbar()\n",
    "    #plt.scatter(nu_vtx_z, nu_vtx_x, color='r', s=100, marker='*')\n",
    "    #plt.xlabel('z (cm)')\n",
    "    #plt.ylabel('x (cm)')\n",
    "    #plt.title(f'Event {event_i} Run {curr_run_num} Subrun {curr_subrun_num} Event {curr_event_num}\\nCollection Plane')\n",
    "\n",
    "    plt.axis('off')\n",
    "\n",
    "    plt.xlim(nu_vtx_z - 100, nu_vtx_z + 100)\n",
    "    plt.ylim(nu_vtx_x - 100, nu_vtx_x + 100)\n",
    "\n",
    "    fig.subplots_adjust(bottom = 0)\n",
    "    fig.subplots_adjust(top = 1)\n",
    "    fig.subplots_adjust(right = 1)\n",
    "    fig.subplots_adjust(left = 0)\n",
    "\n",
    "    plt.savefig(f\"event_display_images_hires/event_{event_i}.png\", pad_inches=0, dpi=600)\n",
    "    plt.savefig(f\"event_display_images_lores/event_{event_i}.png\", pad_inches=0, dpi=128)\n",
    "    plt.close(fig)\n"
   ]
  },
  {
   "cell_type": "code",
   "execution_count": 5,
   "metadata": {},
   "outputs": [
    {
     "name": "stderr",
     "output_type": "stream",
     "text": [
      "/tmp/ipykernel_493040/447161657.py:3: DeprecationWarning: Starting with ImageIO v3 the behavior of this function will switch to that of iio.v3.imread. To keep the current behavior (and make this warning disappear) use `import imageio.v2 as imageio` or call `imageio.v2.imread` directly.\n",
      "  images.append(imageio.imread(filename))\n",
      "/tmp/ipykernel_493040/447161657.py:8: DeprecationWarning: Starting with ImageIO v3 the behavior of this function will switch to that of iio.v3.imread. To keep the current behavior (and make this warning disappear) use `import imageio.v2 as imageio` or call `imageio.v2.imread` directly.\n",
      "  images.append(imageio.imread(filename))\n"
     ]
    }
   ],
   "source": [
    "images = []\n",
    "for filename in glob.glob(\"event_display_images_hires/*.png\"):\n",
    "    images.append(imageio.imread(filename))\n",
    "imageio.mimsave('event_displays_hires.gif', images, loop=0, duration=100)\n",
    "\n",
    "images = []\n",
    "for filename in glob.glob(\"event_display_images_lores/*.png\"):\n",
    "    images.append(imageio.imread(filename))\n",
    "imageio.mimsave('event_displays_lores.gif', images, loop=0, duration=100)\n"
   ]
  },
  {
   "cell_type": "code",
   "execution_count": null,
   "metadata": {},
   "outputs": [],
   "source": []
  },
  {
   "cell_type": "code",
   "execution_count": null,
   "metadata": {},
   "outputs": [],
   "source": []
  }
 ],
 "metadata": {
  "kernelspec": {
   "display_name": "base",
   "language": "python",
   "name": "python3"
  },
  "language_info": {
   "codemirror_mode": {
    "name": "ipython",
    "version": 3
   },
   "file_extension": ".py",
   "mimetype": "text/x-python",
   "name": "python",
   "nbconvert_exporter": "python",
   "pygments_lexer": "ipython3",
   "version": "3.11.4"
  }
 },
 "nbformat": 4,
 "nbformat_minor": 2
}
