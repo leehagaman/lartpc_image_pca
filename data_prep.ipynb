{
 "cells": [
  {
   "cell_type": "code",
   "execution_count": 1,
   "metadata": {},
   "outputs": [],
   "source": [
    "import os\n",
    "import imageio\n",
    "import numpy as np\n",
    "import matplotlib.pyplot as plt\n",
    "import matplotlib as mpl\n",
    "mpl.rcParams['font.size'] = 12\n",
    "plt.ioff()\n",
    "import h5py\n",
    "import pandas as pd\n",
    "from tqdm.notebook import tqdm\n",
    "from skimage.measure import block_reduce\n",
    "import scipy.ndimage\n",
    "from PIL import Image\n"
   ]
  },
  {
   "cell_type": "code",
   "execution_count": 2,
   "metadata": {},
   "outputs": [],
   "source": [
    "f = h5py.File(\"data_files/nue_WithWire_00.h5\")\n",
    "\n",
    "wire_table_rse_num_tups = np.array(f['wire_table']['event_id'], dtype=np.uint64)\n",
    "particle_table_rse_num_tups = np.array(f['particle_table']['event_id'], dtype=np.uint64)\n",
    "\n",
    "wire_table_rse_nums = wire_table_rse_num_tups[:, 0] * 1_000_000_000_000 + wire_table_rse_num_tups[:, 1] * 1_000_000 + wire_table_rse_num_tups[:, 2]\n",
    "particle_table_rse_nums = particle_table_rse_num_tups[:, 0] * 1_000_000_000_000 + particle_table_rse_num_tups[:, 1] * 1_000_000 + particle_table_rse_num_tups[:, 2]\n",
    "\n",
    "unique_rse_nums = np.unique(wire_table_rse_nums)\n"
   ]
  },
  {
   "cell_type": "code",
   "execution_count": 3,
   "metadata": {},
   "outputs": [
    {
     "data": {
      "application/vnd.jupyter.widget-view+json": {
       "model_id": "35c0d9f3cce346b6bd5759a665cecbe8",
       "version_major": 2,
       "version_minor": 0
      },
      "text/plain": [
       "  0%|          | 0/100 [00:00<?, ?it/s]"
      ]
     },
     "metadata": {},
     "output_type": "display_data"
    }
   ],
   "source": [
    "all_adcs = f['wire_table']['adc']\n",
    "all_local_wires = f['wire_table']['local_wire']\n",
    "all_local_planes = f['wire_table']['local_plane']\n",
    "\n",
    "particle_start_wire_pos = f['particle_table']['start_wire_pos']\n",
    "particle_start_wire_time = f['particle_table']['start_wire_time']\n",
    "\n",
    "os.system(\"rm event_display_images_hires/*.png\")\n",
    "os.system(\"rm event_display_images_lores/*.png\")\n",
    "\n",
    "extra_plot_debug = True\n",
    "\n",
    "num_events = 100\n",
    "num_gif_events = 20\n",
    "image_stack = np.zeros((num_events, 128, 128), dtype=np.float32)\n",
    "hires_image_list = []\n",
    "for event_i in tqdm(range(num_events)):\n",
    "\n",
    "    curr_rse_num = unique_rse_nums[event_i]\n",
    "    curr_run_num = int(curr_rse_num // 1_000_000_000_000)\n",
    "    curr_subrun_num = int((curr_rse_num % 1_000_000_000_000) // 1_000_000)\n",
    "    curr_event_num = int(curr_rse_num % 1_000_000)\n",
    "\n",
    "    # Only looking at first particle to get neutrino vertex info, for some reason the vertex from the event_table tree didn't seem to match.\n",
    "    event_particle_start_wire_pos = np.array(particle_start_wire_pos[particle_table_rse_nums == unique_rse_nums[event_i]])[0]\n",
    "    event_particle_start_wire_time = np.array(particle_start_wire_time[particle_table_rse_nums == unique_rse_nums[event_i]])[0]\n",
    "\n",
    "    event_adcs = np.array(all_adcs[wire_table_rse_nums == unique_rse_nums[event_i]])\n",
    "    event_local_wire_nums = np.array(all_local_wires[wire_table_rse_nums == unique_rse_nums[event_i]]).flatten()\n",
    "    event_local_plane_nums = np.array(all_local_planes[wire_table_rse_nums == unique_rse_nums[event_i]]).flatten()\n",
    "\n",
    "    collection_adcs = event_adcs[event_local_plane_nums == 2]\n",
    "    collection_local_wire_nums = event_local_wire_nums[event_local_plane_nums == 2]\n",
    "    collection_particle_start_wire_pos = event_particle_start_wire_pos[2]\n",
    "    collection_particle_start_wire_time = event_particle_start_wire_time[0]\n",
    "\n",
    "    wire_pitch = 0.3 # cm, from https://microboone.fnal.gov/wp-content/uploads/MICROBOONE-NOTE-1083-PUB.pdf\n",
    "    time_tick = 0.5 # microseconds, from https://microboone.fnal.gov/wp-content/uploads/MICROBOONE-NOTE-1083-PUB.pdf\n",
    "    drift_velocity = 0.114 # cm / microsecond # 114 cm / millisecond, from https://microboone.fnal.gov/wp-content/uploads/MICROBOONE-NOTE-1026-PUB.pdf\n",
    "\n",
    "    nu_vtx_z = collection_particle_start_wire_pos * wire_pitch # measuring from leftmost wire, not exactly the same as detector coordinates!\n",
    "    nu_vtx_x = collection_particle_start_wire_time * time_tick * drift_velocity # approximate and relative, not exactly the same as detector coordinates!\n",
    "\n",
    "    f_downsample = 6\n",
    "    collection_adcs = block_reduce(collection_adcs, block_size=(1, f_downsample), func=np.sum)\n",
    "\n",
    "    adccutoff = 10.*f_downsample/6.\n",
    "    adcsaturation = 100.*f_downsample/6.\n",
    "    collection_adcs[collection_adcs < adccutoff] = 0\n",
    "    collection_adcs[collection_adcs > adcsaturation] = adcsaturation\n",
    "    # this is the standard form of ADCs, from the public data reference notebook\n",
    "\n",
    "    def get_image_arr(resolution, size, extra_plot_debug=False):\n",
    "        # resolution is pixels per side of image. resolution=None will use the maximum resolution, one pixel per wire.\n",
    "        # size is cm per side of image\n",
    "\n",
    "        if resolution: # manual resolution choice, for downsampling\n",
    "\n",
    "            scaling_z = wire_pitch / size * resolution\n",
    "            scaling_x = time_tick * f_downsample * drift_velocity / size * resolution\n",
    "            img = Image.fromarray(np.array(collection_adcs.T * 255 / 100, dtype=np.uint8), mode=\"L\")\n",
    "            new_size = (int(img.width * scaling_z), int(img.height * scaling_x))\n",
    "            scaled_arr = np.array(img.resize(new_size, Image.BOX)) * 100. / 255.\n",
    "\n",
    "            scaling_z = wire_pitch / size * resolution\n",
    "            scaling_x = time_tick * f_downsample * drift_velocity / size * resolution\n",
    "            img = Image.fromarray(np.array(collection_adcs.T * 255 / 100, dtype=np.uint8), mode=\"L\")\n",
    "            new_size = (int(img.width * scaling_z), int(img.height * scaling_x))\n",
    "            scaled_arr = np.array(img.resize(new_size, Image.BOX)) * 100. / 255.\n",
    "\n",
    "            nu_vtx_index_z = int(collection_particle_start_wire_pos * scaling_z)\n",
    "            nu_vtx_index_x = int(collection_particle_start_wire_time / f_downsample * scaling_x)\n",
    "\n",
    "            num_pad_pixels = resolution\n",
    "            padded_scaled_arr = np.pad(scaled_arr, ((num_pad_pixels, num_pad_pixels), (num_pad_pixels, num_pad_pixels)), mode='constant', constant_values=0)\n",
    "            nu_vtx_index_z += num_pad_pixels\n",
    "            nu_vtx_index_x += num_pad_pixels\n",
    "\n",
    "            image_arr = padded_scaled_arr[nu_vtx_index_x - resolution // 2 : nu_vtx_index_x + resolution // 2, \n",
    "                                        nu_vtx_index_z - resolution // 2 : nu_vtx_index_z + resolution // 2]\n",
    "\n",
    "        elif resolution == None: # keeping max resolution available, just fixing aspect ratio\n",
    "\n",
    "            auto_resolution = size / wire_pitch\n",
    "            scaling_z = 1\n",
    "            scaling_x = time_tick * f_downsample * drift_velocity / size * auto_resolution\n",
    "            \n",
    "            img = Image.fromarray(np.array(collection_adcs.T * 255 / 100, dtype=np.uint8), mode=\"L\")\n",
    "            new_size = (int(img.width * scaling_z), int(img.height * scaling_x))\n",
    "            scaled_arr = np.array(img.resize(new_size)) * 100. / 255.\n",
    "\n",
    "            nu_vtx_index_z = int(collection_particle_start_wire_pos * scaling_z)\n",
    "            nu_vtx_index_x = int(collection_particle_start_wire_time / f_downsample * scaling_x)\n",
    "\n",
    "            num_pad_pixels = int(auto_resolution)\n",
    "            padded_scaled_arr = np.pad(scaled_arr, ((num_pad_pixels, num_pad_pixels), (num_pad_pixels, num_pad_pixels)), mode='constant', constant_values=0)\n",
    "            nu_vtx_index_z += num_pad_pixels\n",
    "            nu_vtx_index_x += num_pad_pixels\n",
    "\n",
    "            half_auto_resolution = int(auto_resolution // 2)\n",
    "            image_arr = padded_scaled_arr[nu_vtx_index_x - half_auto_resolution : nu_vtx_index_x + half_auto_resolution, \n",
    "                                        nu_vtx_index_z - half_auto_resolution : nu_vtx_index_z + half_auto_resolution]\n",
    "\n",
    "\n",
    "        return image_arr\n",
    "\n",
    "    image_arr = get_image_arr(128, 200, extra_plot_debug=False)\n",
    "    image_stack[event_i] = image_arr\n",
    "\n",
    "    if event_i < num_gif_events:\n",
    "        image_arr = get_image_arr(None, 200, extra_plot_debug=False)\n",
    "        hires_image_list.append(image_arr)\n",
    "\n"
   ]
  },
  {
   "cell_type": "code",
   "execution_count": 4,
   "metadata": {},
   "outputs": [],
   "source": [
    "# saving some images, just for visualization purposes\n",
    "\n",
    "for event_i in range(num_gif_events):\n",
    "\n",
    "    image_array = image_stack[event_i]\n",
    "    image_arr_normalized = image_array / 100.\n",
    "    rgb_arr = plt.get_cmap('jet')(image_arr_normalized)[:, :, :3]\n",
    "    img = Image.fromarray((rgb_arr * 255).astype(np.uint8))\n",
    "    img.save(f\"event_display_images_lores/event_{event_i:06d}.png\")\n",
    "\n",
    "    image_array = hires_image_list[event_i]\n",
    "    image_arr_normalized = image_array / 100.\n",
    "    rgb_arr = plt.get_cmap('jet')(image_arr_normalized)[:, :, :3]\n",
    "    img = Image.fromarray((rgb_arr * 255).astype(np.uint8))\n",
    "    img.save(f\"event_display_images_hires/event_{event_i:06d}.png\")\n",
    "    "
   ]
  },
  {
   "cell_type": "code",
   "execution_count": 5,
   "metadata": {},
   "outputs": [
    {
     "name": "stderr",
     "output_type": "stream",
     "text": [
      "/tmp/ipykernel_56914/4243937373.py:5: DeprecationWarning: Starting with ImageIO v3 the behavior of this function will switch to that of iio.v3.imread. To keep the current behavior (and make this warning disappear) use `import imageio.v2 as imageio` or call `imageio.v2.imread` directly.\n",
      "  images.append(imageio.imread(f\"event_display_images_hires/event_{event_i:06d}.png\"))\n",
      "/tmp/ipykernel_56914/4243937373.py:10: DeprecationWarning: Starting with ImageIO v3 the behavior of this function will switch to that of iio.v3.imread. To keep the current behavior (and make this warning disappear) use `import imageio.v2 as imageio` or call `imageio.v2.imread` directly.\n",
      "  images.append(imageio.imread(f\"event_display_images_lores/event_{event_i:06d}.png\"))\n"
     ]
    }
   ],
   "source": [
    "# making gifs, just for visualization purposes\n",
    "\n",
    "images = []\n",
    "for event_i in range(5):\n",
    "    images.append(imageio.imread(f\"event_display_images_hires/event_{event_i:06d}.png\"))\n",
    "imageio.mimsave('event_displays_hires.gif', images, loop=0, duration=100)\n",
    "\n",
    "images = []\n",
    "for event_i in range(5):\n",
    "    images.append(imageio.imread(f\"event_display_images_lores/event_{event_i:06d}.png\"))\n",
    "imageio.mimsave('event_displays_lores.gif', images, loop=0, duration=100)\n"
   ]
  },
  {
   "cell_type": "code",
   "execution_count": 6,
   "metadata": {},
   "outputs": [],
   "source": [
    "np.savez(\"processed_data_files/nue_images.npz\", image_stack=image_stack)\n"
   ]
  },
  {
   "cell_type": "code",
   "execution_count": null,
   "metadata": {},
   "outputs": [],
   "source": []
  }
 ],
 "metadata": {
  "kernelspec": {
   "display_name": "base",
   "language": "python",
   "name": "python3"
  },
  "language_info": {
   "codemirror_mode": {
    "name": "ipython",
    "version": 3
   },
   "file_extension": ".py",
   "mimetype": "text/x-python",
   "name": "python",
   "nbconvert_exporter": "python",
   "pygments_lexer": "ipython3",
   "version": "3.11.4"
  }
 },
 "nbformat": 4,
 "nbformat_minor": 2
}
